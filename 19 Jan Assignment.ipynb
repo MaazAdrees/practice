{
 "cells": [
  {
   "cell_type": "markdown",
   "metadata": {},
   "source": [
    "# Area of Circle"
   ]
  },
  {
   "cell_type": "code",
   "execution_count": 16,
   "metadata": {},
   "outputs": [
    {
     "name": "stdout",
     "output_type": "stream",
     "text": [
      "Enter Radius: 5\n"
     ]
    }
   ],
   "source": [
    "pi = 3.14\n",
    "radius = int(input(\"Enter Radius: \"))"
   ]
  },
  {
   "cell_type": "code",
   "execution_count": 17,
   "metadata": {},
   "outputs": [
    {
     "name": "stdout",
     "output_type": "stream",
     "text": [
      "Area of Circle with Radius '5' is 78.5\n"
     ]
    }
   ],
   "source": [
    "print(\"Area of Circle with Radius '{}' is {}\".format(radius, pi*radius**2))"
   ]
  },
  {
   "cell_type": "markdown",
   "metadata": {},
   "source": [
    "# Lists"
   ]
  },
  {
   "cell_type": "code",
   "execution_count": 18,
   "metadata": {},
   "outputs": [
    {
     "name": "stdout",
     "output_type": "stream",
     "text": [
      "['Faisalabad', 'Islamabad', 'Karachi', 'Lahore', 'Quetta']\n",
      "\n",
      "[93.4, 95, 98.7, 87.4, 83.02]\n",
      "\n",
      "[45, 70, 54, 90, 42]\n"
     ]
    }
   ],
   "source": [
    "cities = ['Faisalabad', 'Islamabad', 'Karachi', 'Lahore', 'Quetta']\n",
    "print(cities)\n",
    "print()\n",
    "result = [93.4, 95, 98.7, 87.4, 83.02]\n",
    "print(result)\n",
    "print()\n",
    "score = [45, 70, 54, 90, 42]\n",
    "print(score)"
   ]
  },
  {
   "cell_type": "code",
   "execution_count": null,
   "metadata": {},
   "outputs": [],
   "source": []
  }
 ],
 "metadata": {
  "kernelspec": {
   "display_name": "Python 3",
   "language": "python",
   "name": "python3"
  },
  "language_info": {
   "codemirror_mode": {
    "name": "ipython",
    "version": 3
   },
   "file_extension": ".py",
   "mimetype": "text/x-python",
   "name": "python",
   "nbconvert_exporter": "python",
   "pygments_lexer": "ipython3",
   "version": "3.7.4"
  }
 },
 "nbformat": 4,
 "nbformat_minor": 2
}
