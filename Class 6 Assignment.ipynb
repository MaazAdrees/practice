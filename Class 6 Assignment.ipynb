{
 "cells": [
  {
   "cell_type": "markdown",
   "metadata": {},
   "source": [
    "**1. Write a Python class named Circle constructed by a radius and two methods which will compute the area and the perimeter of a circle**"
   ]
  },
  {
   "cell_type": "code",
   "execution_count": 24,
   "metadata": {},
   "outputs": [],
   "source": [
    "class Circle():\n",
    "    def __init__(self):\n",
    "        self.pi = 3.14\n",
    "        self._radius = int(input(\"Enter radius of the circle: \"))\n",
    "    def area(self):\n",
    "        print(f\"Area of Circle is {self.pi*self._radius**2}\")\n",
    "    def perimtr(self):\n",
    "        print(f\"Perimeter/Circumference of Circle is {2*self.pi*self._radius}\")"
   ]
  },
  {
   "cell_type": "code",
   "execution_count": 25,
   "metadata": {},
   "outputs": [
    {
     "name": "stdout",
     "output_type": "stream",
     "text": [
      "Enter radius of the circle: 4\n"
     ]
    }
   ],
   "source": [
    "circle = Circle()"
   ]
  },
  {
   "cell_type": "code",
   "execution_count": 26,
   "metadata": {},
   "outputs": [
    {
     "name": "stdout",
     "output_type": "stream",
     "text": [
      "Area of Circle is 50.24\n"
     ]
    }
   ],
   "source": [
    "circle.area()"
   ]
  },
  {
   "cell_type": "code",
   "execution_count": 27,
   "metadata": {},
   "outputs": [
    {
     "name": "stdout",
     "output_type": "stream",
     "text": [
      "Perimeter/Circumference of Circle is 25.12\n"
     ]
    }
   ],
   "source": [
    "circle.perimtr()"
   ]
  },
  {
   "cell_type": "markdown",
   "metadata": {},
   "source": [
    "**2.Write a Python class which has two methods get_String and print_String. get_String accept a string from the user and print_String print the string in upper case.**"
   ]
  },
  {
   "cell_type": "code",
   "execution_count": 28,
   "metadata": {},
   "outputs": [],
   "source": [
    "class StringM():\n",
    "    \n",
    "    def get_String(self):\n",
    "        self.s = input(\"Enter any String: \")\n",
    "    \n",
    "    def print_String(self):\n",
    "        print(self.s)"
   ]
  },
  {
   "cell_type": "code",
   "execution_count": 29,
   "metadata": {},
   "outputs": [],
   "source": [
    "obj1 = StringM()"
   ]
  },
  {
   "cell_type": "code",
   "execution_count": 30,
   "metadata": {},
   "outputs": [
    {
     "name": "stdout",
     "output_type": "stream",
     "text": [
      "Enter any String: This is my string\n"
     ]
    }
   ],
   "source": [
    "obj1.get_String()"
   ]
  },
  {
   "cell_type": "code",
   "execution_count": 31,
   "metadata": {},
   "outputs": [
    {
     "name": "stdout",
     "output_type": "stream",
     "text": [
      "This is my string\n"
     ]
    }
   ],
   "source": [
    "obj1.print_String()"
   ]
  },
  {
   "cell_type": "markdown",
   "metadata": {},
   "source": [
    "**3. Write a Python class to reverse a string word by word. - Go to the editor Input string : 'hello .py' Expected Output : '.py hello'**"
   ]
  },
  {
   "cell_type": "code",
   "execution_count": 71,
   "metadata": {},
   "outputs": [],
   "source": [
    "class StrReverse():\n",
    "    \n",
    "    def __init__(self):\n",
    "        self.newString = input(\"Enter any String to Reverse it:\\n\\t\").split()\n",
    "    \n",
    "    def reverse(self):\n",
    "        for i in reversed(range(len(self.newString))):\n",
    "            print(f\"{self.newString[i]}\",end=\" \")\n",
    "        "
   ]
  },
  {
   "cell_type": "code",
   "execution_count": 74,
   "metadata": {},
   "outputs": [
    {
     "name": "stdout",
     "output_type": "stream",
     "text": [
      "Enter any String to Reverse it:\n",
      "\tthis is my string again\n"
     ]
    }
   ],
   "source": [
    "rev1 = StrReverse()"
   ]
  },
  {
   "cell_type": "code",
   "execution_count": 75,
   "metadata": {},
   "outputs": [
    {
     "name": "stdout",
     "output_type": "stream",
     "text": [
      "again string my is this "
     ]
    }
   ],
   "source": [
    "rev1.reverse()"
   ]
  }
 ],
 "metadata": {
  "kernelspec": {
   "display_name": "Python 3",
   "language": "python",
   "name": "python3"
  },
  "language_info": {
   "codemirror_mode": {
    "name": "ipython",
    "version": 3
   },
   "file_extension": ".py",
   "mimetype": "text/x-python",
   "name": "python",
   "nbconvert_exporter": "python",
   "pygments_lexer": "ipython3",
   "version": "3.7.6"
  }
 },
 "nbformat": 4,
 "nbformat_minor": 2
}
