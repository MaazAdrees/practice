{
 "cells": [
  {
   "cell_type": "markdown",
   "metadata": {},
   "source": [
    "# Assignment 1"
   ]
  },
  {
   "cell_type": "code",
   "execution_count": 1,
   "metadata": {},
   "outputs": [],
   "source": [
    "empList = []\n",
    "empDict = {}"
   ]
  },
  {
   "cell_type": "code",
   "execution_count": 2,
   "metadata": {},
   "outputs": [
    {
     "name": "stdout",
     "output_type": "stream",
     "text": [
      "How many Employees do you want to enter? 3\n",
      "****************************************************************************************************\n",
      "Enter Employee 1 Data!\n",
      "Enter Employee Name: Hamza Ali\n",
      "Enter Employee Age: 25\n",
      "Enter Employee Work: A.I\n",
      "Enter Employee Skills (if more than one searate them by ','): python,tensorflow,cloud\n",
      "Enter Employee Salary: 259999\n",
      "Enter Degree Title: BS\n",
      "Enter Degree Major: Computer Science\n",
      "Enter Degree Completion Date: Jun 2019\n",
      "****************************************************************************************************\n",
      "Enter Employee 2 Data!\n",
      "Enter Employee Name: Farooq Aziz\n",
      "Enter Employee Age: 27\n",
      "Enter Employee Work: Cloud Native\n",
      "Enter Employee Skills (if more than one searate them by ','): ubuntu,docker,kubernetes\n",
      "Enter Employee Salary: 200000\n",
      "Enter Degree Title: MS\n",
      "Enter Degree Major: Software Engineer\n",
      "Enter Degree Completion Date: May 2018\n",
      "****************************************************************************************************\n",
      "Enter Employee 3 Data!\n",
      "Enter Employee Name: Abu Bakr\n",
      "Enter Employee Age: 30\n",
      "Enter Employee Work: Blockchain\n",
      "Enter Employee Skills (if more than one searate them by ','): python,Cryptography,Ethereum\n",
      "Enter Employee Salary: 300000\n",
      "Enter Degree Title: MS\n",
      "Enter Degree Major: Computer Science\n",
      "Enter Degree Completion Date: May 2019\n"
     ]
    }
   ],
   "source": [
    "num = int(input(\"How many Employees do you want to enter? \"))\n",
    "\n",
    "\n",
    "for i in range(num):\n",
    "    print('*'*100)\n",
    "    print(\"Enter Employee {} Data!\".format(i+1))\n",
    "    empDict[\"Name\"] = input(\"Enter Employee Name: \")\n",
    "    empDict[\"Age\"] = int(input(\"Enter Employee Age: \"))\n",
    "    empDict[\"Work\"] = input(\"Enter Employee Work: \")\n",
    "    empDict[\"Skills\"] = input(\"Enter Employee Skills (if more than one searate them by ','): \").split(',')\n",
    "    empDict[\"Salary\"] = int(input(\"Enter Employee Salary: \"))\n",
    "    empDict[\"Degree\"] = {}\n",
    "    empDict[\"Degree\"][\"Title\"] = input(\"Enter Degree Title: \")\n",
    "    empDict[\"Degree\"][\"Major\"] = input(\"Enter Degree Major: \")\n",
    "    empDict[\"Degree\"][\"Completion Date\"] = input(\"Enter Degree Completion Date: \")\n",
    "    empList.append(empDict)"
   ]
  },
  {
   "cell_type": "markdown",
   "metadata": {},
   "source": [
    "# Assignment 2"
   ]
  },
  {
   "cell_type": "code",
   "execution_count": 65,
   "metadata": {},
   "outputs": [
    {
     "name": "stdout",
     "output_type": "stream",
     "text": [
      "Enter Table Range number (separated by space): 5 10\n"
     ]
    }
   ],
   "source": [
    "r1,r2 = input(\"Enter Table Range number (separated by space): \").split()\n",
    "r1 = int(r1)\n",
    "r2 = int(r2)"
   ]
  },
  {
   "cell_type": "markdown",
   "metadata": {},
   "source": [
    "**First Output**"
   ]
  },
  {
   "cell_type": "code",
   "execution_count": 88,
   "metadata": {},
   "outputs": [
    {
     "name": "stdout",
     "output_type": "stream",
     "text": [
      "\n",
      "1 x 5 = 5\n",
      "2 x 5 = 10\n",
      "3 x 5 = 15\n",
      "4 x 5 = 20\n",
      "5 x 5 = 25\n",
      "6 x 5 = 30\n",
      "7 x 5 = 35\n",
      "8 x 5 = 40\n",
      "9 x 5 = 45\n",
      "10 x 5 = 50\n",
      "\n",
      "1 x 6 = 6\n",
      "2 x 6 = 12\n",
      "3 x 6 = 18\n",
      "4 x 6 = 24\n",
      "5 x 6 = 30\n",
      "6 x 6 = 36\n",
      "7 x 6 = 42\n",
      "8 x 6 = 48\n",
      "9 x 6 = 54\n",
      "10 x 6 = 60\n",
      "\n",
      "1 x 7 = 7\n",
      "2 x 7 = 14\n",
      "3 x 7 = 21\n",
      "4 x 7 = 28\n",
      "5 x 7 = 35\n",
      "6 x 7 = 42\n",
      "7 x 7 = 49\n",
      "8 x 7 = 56\n",
      "9 x 7 = 63\n",
      "10 x 7 = 70\n",
      "\n",
      "1 x 8 = 8\n",
      "2 x 8 = 16\n",
      "3 x 8 = 24\n",
      "4 x 8 = 32\n",
      "5 x 8 = 40\n",
      "6 x 8 = 48\n",
      "7 x 8 = 56\n",
      "8 x 8 = 64\n",
      "9 x 8 = 72\n",
      "10 x 8 = 80\n",
      "\n",
      "1 x 9 = 9\n",
      "2 x 9 = 18\n",
      "3 x 9 = 27\n",
      "4 x 9 = 36\n",
      "5 x 9 = 45\n",
      "6 x 9 = 54\n",
      "7 x 9 = 63\n",
      "8 x 9 = 72\n",
      "9 x 9 = 81\n",
      "10 x 9 = 90\n",
      "\n",
      "1 x 10 = 10\n",
      "2 x 10 = 20\n",
      "3 x 10 = 30\n",
      "4 x 10 = 40\n",
      "5 x 10 = 50\n",
      "6 x 10 = 60\n",
      "7 x 10 = 70\n",
      "8 x 10 = 80\n",
      "9 x 10 = 90\n",
      "10 x 10 = 100\n"
     ]
    }
   ],
   "source": [
    "for j in range(r1,r2+1):\n",
    "    print()\n",
    "    for k in range(1,11):\n",
    "        print('{} x {} = {}'.format(k,j,(k) * j))"
   ]
  },
  {
   "cell_type": "markdown",
   "metadata": {},
   "source": [
    "**Second Output**"
   ]
  },
  {
   "cell_type": "code",
   "execution_count": 89,
   "metadata": {},
   "outputs": [
    {
     "name": "stdout",
     "output_type": "stream",
     "text": [
      "\n",
      "5 x 1 = 5\t6 x 1 = 6\t7 x 1 = 7\t8 x 1 = 8\t9 x 1 = 9\t10 x 1 = 10\t\n",
      "5 x 2 = 10\t6 x 2 = 12\t7 x 2 = 14\t8 x 2 = 16\t9 x 2 = 18\t10 x 2 = 20\t\n",
      "5 x 3 = 15\t6 x 3 = 18\t7 x 3 = 21\t8 x 3 = 24\t9 x 3 = 27\t10 x 3 = 30\t\n",
      "5 x 4 = 20\t6 x 4 = 24\t7 x 4 = 28\t8 x 4 = 32\t9 x 4 = 36\t10 x 4 = 40\t\n",
      "5 x 5 = 25\t6 x 5 = 30\t7 x 5 = 35\t8 x 5 = 40\t9 x 5 = 45\t10 x 5 = 50\t\n",
      "5 x 6 = 30\t6 x 6 = 36\t7 x 6 = 42\t8 x 6 = 48\t9 x 6 = 54\t10 x 6 = 60\t\n",
      "5 x 7 = 35\t6 x 7 = 42\t7 x 7 = 49\t8 x 7 = 56\t9 x 7 = 63\t10 x 7 = 70\t\n",
      "5 x 8 = 40\t6 x 8 = 48\t7 x 8 = 56\t8 x 8 = 64\t9 x 8 = 72\t10 x 8 = 80\t\n",
      "5 x 9 = 45\t6 x 9 = 54\t7 x 9 = 63\t8 x 9 = 72\t9 x 9 = 81\t10 x 9 = 90\t\n",
      "5 x 10 = 50\t6 x 10 = 60\t7 x 10 = 70\t8 x 10 = 80\t9 x 10 = 90\t10 x 10 = 100\t"
     ]
    }
   ],
   "source": [
    "for j in range(1,11):\n",
    "    print()\n",
    "    for k in range(r1,r2+1):\n",
    "        print(\"{} x {} = {}\".format(k,j,k*j),end='\\t')"
   ]
  },
  {
   "cell_type": "code",
   "execution_count": null,
   "metadata": {},
   "outputs": [],
   "source": []
  }
 ],
 "metadata": {
  "kernelspec": {
   "display_name": "Python 3",
   "language": "python",
   "name": "python3"
  },
  "language_info": {
   "codemirror_mode": {
    "name": "ipython",
    "version": 3
   },
   "file_extension": ".py",
   "mimetype": "text/x-python",
   "name": "python",
   "nbconvert_exporter": "python",
   "pygments_lexer": "ipython3",
   "version": "3.7.6"
  }
 },
 "nbformat": 4,
 "nbformat_minor": 2
}
